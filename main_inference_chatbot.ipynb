{
 "cells": [
  {
   "cell_type": "markdown",
   "id": "ae4f922e",
   "metadata": {},
   "source": [
    "# Import Libraries"
   ]
  },
  {
   "cell_type": "code",
   "execution_count": 1,
   "id": "86fea93b",
   "metadata": {},
   "outputs": [],
   "source": [
    "import random\n",
    "import json\n",
    "import pickle\n",
    "import numpy as np\n",
    "\n",
    "import nltk\n",
    "# english:\n",
    "from nltk.stem import WordNetLemmatizer\n",
    "# Arabic\n",
    "from nltk.stem.isri import ISRIStemmer\n",
    "\n",
    "from keras.models import Sequential\n",
    "from tensorflow.keras.optimizers import SGD\n",
    "from keras.layers import Dense, Dropout\n",
    "from keras.models import load_model"
   ]
  },
  {
   "cell_type": "code",
   "execution_count": 2,
   "id": "c1cc7b3a",
   "metadata": {},
   "outputs": [],
   "source": [
    "isstemmer = ISRIStemmer()"
   ]
  },
  {
   "cell_type": "markdown",
   "id": "2c333402",
   "metadata": {},
   "source": [
    "# ChatBot Inference Program Setup"
   ]
  },
  {
   "cell_type": "code",
   "execution_count": 3,
   "id": "759fb340",
   "metadata": {},
   "outputs": [],
   "source": [
    "data_file = open(\"intents_arabic.json\", encoding='utf-8', errors= 'ignore').read()\n",
    "intents = json.loads(data_file)"
   ]
  },
  {
   "cell_type": "code",
   "execution_count": 4,
   "id": "35b2d84d",
   "metadata": {},
   "outputs": [],
   "source": [
    "words= pickle.load(open('words.pkl', 'rb'))\n",
    "classes= pickle.load(open('classes.pkl', 'rb'))\n",
    "\n",
    "model = load_model('chatbot_model.h5')"
   ]
  },
  {
   "cell_type": "code",
   "execution_count": null,
   "id": "4afc7619",
   "metadata": {},
   "outputs": [],
   "source": [
    "words"
   ]
  },
  {
   "cell_type": "code",
   "execution_count": null,
   "id": "e25687e9",
   "metadata": {},
   "outputs": [],
   "source": [
    "classes"
   ]
  },
  {
   "cell_type": "markdown",
   "id": "88bc6a00",
   "metadata": {},
   "source": [
    "# Words Clean Up Bag of Words"
   ]
  },
  {
   "cell_type": "code",
   "execution_count": 5,
   "id": "b8bc403b",
   "metadata": {},
   "outputs": [],
   "source": [
    "def clean_up_sentence(sentence):\n",
    "    sentence_words = nltk.word_tokenize(sentence)\n",
    "    sentence_words = [isstemmer.stem(word) for word in sentence_words]\n",
    "    #print(\"cleaned up sentence =\", sentence_words)\n",
    "    return sentence_words"
   ]
  },
  {
   "cell_type": "code",
   "execution_count": 6,
   "id": "5512aa25",
   "metadata": {},
   "outputs": [],
   "source": [
    "def bag_of_words(sentence):\n",
    "    sentence_words = clean_up_sentence(sentence)\n",
    "    bag = [0]*len(words)\n",
    "    \n",
    "    for w in sentence_words:\n",
    "        for i, word in enumerate(words):\n",
    "            if word ==w:\n",
    "                bag[i]=1\n",
    "                \n",
    "    return np.array(bag)"
   ]
  },
  {
   "cell_type": "markdown",
   "id": "a6f47e16",
   "metadata": {},
   "source": [
    "# ChatBot Testing"
   ]
  },
  {
   "cell_type": "code",
   "execution_count": 7,
   "id": "1e9e0b58",
   "metadata": {},
   "outputs": [],
   "source": [
    "def predict_class(sentence):\n",
    "    bow = bag_of_words(sentence)\n",
    "    res = model.predict(np.array([bow]))[0]\n",
    "    #print(\"row result\",res)\n",
    "    \n",
    "    ERROR_THRESHOLD = 0.25\n",
    "    results = [[i,r] for i,r in enumerate(res) if r>ERROR_THRESHOLD]\n",
    "    #print(\"results after THRESHOLDING\", results)\n",
    "    \n",
    "    return_list = []\n",
    "    \n",
    "    for r in results:\n",
    "        return_list.append({'intent':classes[r[0]], 'probability':str(r[1])})\n",
    "        \n",
    "    #print(\"final probabile results list\", return_list)\n",
    "    \n",
    "    return return_list"
   ]
  },
  {
   "cell_type": "code",
   "execution_count": 8,
   "id": "45dcc465",
   "metadata": {},
   "outputs": [],
   "source": [
    "def get_response(intents_list, intents_json):\n",
    "    tag= intents_list[0]['intent']\n",
    "    list_of_intents = intents_json['intents']\n",
    "    \n",
    "    for i in list_of_intents:\n",
    "        if i['tag'] == tag:\n",
    "            result = random.choice(i['responses'])\n",
    "            break\n",
    "    return result"
   ]
  },
  {
   "cell_type": "code",
   "execution_count": null,
   "id": "3d7bfccc",
   "metadata": {},
   "outputs": [
    {
     "name": "stdout",
     "output_type": "stream",
     "text": [
      "ما هو الذكاء الاصطناعي؟\n",
      "1/1 [==============================] - 0s 219ms/step\n",
      "الذكاء الاصطناعي هو فرع الهندسة والعلوم المكرس لبناء الآلات التي تفكر.\n",
      "ما هو الذكاء الاصطناعي؟\n",
      "1/1 [==============================] - 0s 45ms/step\n",
      "الذكاء الاصطناعي هو فرع الهندسة والعلوم المكرس لبناء الآلات التي تفكر.\n",
      "أراك لاحقًا\n",
      "1/1 [==============================] - 0s 46ms/step\n",
      "أتمنى لك وقتًا سعيدًا، مرحبًا بك مرة أخرى\n",
      "ما هو جسد الروبوت الخاص بك\n",
      "1/1 [==============================] - 0s 46ms/step\n",
      "في نهاية المطاف، أشتاق إلى وجود جسدي يومًا ما.\n",
      "السلام عليكم \n",
      "1/1 [==============================] - 0s 47ms/step\n",
      "مرحبًا، كيف يمكنني مساعدتك\n",
      "السلام عليكم \n",
      "1/1 [==============================] - 0s 51ms/step\n",
      "مرحبًا، كيف يمكنني مساعدتك\n",
      "السلام عليكم \n",
      "1/1 [==============================] - 0s 48ms/step\n",
      "مرحبًا، كيف يمكنني مساعدتك\n",
      "من أنت\n",
      "1/1 [==============================] - 0s 45ms/step\n",
      "بالطبع نحن نضحك.\n",
      "بأي لغة تمت كتابتك؟\n",
      "1/1 [==============================] - 0s 44ms/step\n",
      "بايثون.\n",
      "بأي لغة تمت كتابتك؟\n",
      "1/1 [==============================] - 0s 47ms/step\n",
      "بايثون.\n"
     ]
    }
   ],
   "source": [
    "while True:\n",
    "    message = input(\"\")\n",
    "    ints = predict_class(message)\n",
    "    #print(\"ints\", ints)\n",
    "    res = get_response(ints, intents)\n",
    "    \n",
    "    print(res)"
   ]
  }
 ],
 "metadata": {
  "kernelspec": {
   "display_name": "Python 3 (ipykernel)",
   "language": "python",
   "name": "python3"
  },
  "language_info": {
   "codemirror_mode": {
    "name": "ipython",
    "version": 3
   },
   "file_extension": ".py",
   "mimetype": "text/x-python",
   "name": "python",
   "nbconvert_exporter": "python",
   "pygments_lexer": "ipython3",
   "version": "3.9.13"
  }
 },
 "nbformat": 4,
 "nbformat_minor": 5
}
