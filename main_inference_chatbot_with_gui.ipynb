{
 "cells": [
  {
   "cell_type": "code",
   "execution_count": 1,
   "id": "bea51657",
   "metadata": {
    "scrolled": true
   },
   "outputs": [
    {
     "name": "stdout",
     "output_type": "stream",
     "text": [
      "Requirement already satisfied: python-bidi in c:\\users\\hp\\anaconda3\\lib\\site-packages (0.4.2)\n",
      "Requirement already satisfied: six in c:\\users\\hp\\anaconda3\\lib\\site-packages (from python-bidi) (1.16.0)\n"
     ]
    }
   ],
   "source": [
    "!pip install python-bidi"
   ]
  },
  {
   "cell_type": "code",
   "execution_count": 2,
   "id": "40016cbb",
   "metadata": {},
   "outputs": [
    {
     "name": "stdout",
     "output_type": "stream",
     "text": [
      "Requirement already satisfied: arabic-reshaper in c:\\users\\hp\\anaconda3\\lib\\site-packages (3.0.0)\n"
     ]
    }
   ],
   "source": [
    "!pip install arabic-reshaper"
   ]
  },
  {
   "cell_type": "markdown",
   "id": "ae4f922e",
   "metadata": {},
   "source": [
    "# Import Libraries"
   ]
  },
  {
   "cell_type": "code",
   "execution_count": 3,
   "id": "86fea93b",
   "metadata": {},
   "outputs": [],
   "source": [
    "import random\n",
    "import json\n",
    "import pickle\n",
    "import numpy as np\n",
    "\n",
    "import nltk\n",
    "# english:\n",
    "from nltk.stem import WordNetLemmatizer\n",
    "# Arabic\n",
    "from nltk.stem.isri import ISRIStemmer\n",
    "\n",
    "from keras.models import Sequential\n",
    "from tensorflow.keras.optimizers import SGD\n",
    "from keras.layers import Dense, Dropout\n",
    "from keras.models import load_model\n",
    "\n",
    "import tkinter as tk\n",
    "from tkinter import *\n",
    "from bidi.algorithm import get_display\n",
    "from arabic_reshaper import reshape"
   ]
  },
  {
   "cell_type": "code",
   "execution_count": 4,
   "id": "c1cc7b3a",
   "metadata": {},
   "outputs": [],
   "source": [
    "isstemmer = ISRIStemmer()"
   ]
  },
  {
   "cell_type": "markdown",
   "id": "2c333402",
   "metadata": {},
   "source": [
    "# ChatBot Inference Program Setup"
   ]
  },
  {
   "cell_type": "code",
   "execution_count": 5,
   "id": "759fb340",
   "metadata": {},
   "outputs": [],
   "source": [
    "data_file = open(\"intents_arabic.json\", encoding='utf-8', errors= 'ignore').read()\n",
    "intents = json.loads(data_file)"
   ]
  },
  {
   "cell_type": "code",
   "execution_count": 6,
   "id": "35b2d84d",
   "metadata": {},
   "outputs": [],
   "source": [
    "words= pickle.load(open('words.pkl', 'rb'))\n",
    "classes= pickle.load(open('classes.pkl', 'rb'))\n",
    "\n",
    "model = load_model('chatbot_model.h5')"
   ]
  },
  {
   "cell_type": "code",
   "execution_count": 7,
   "id": "4afc7619",
   "metadata": {},
   "outputs": [
    {
     "data": {
      "text/plain": [
       "['اذا',\n",
       " 'ارد',\n",
       " 'ارك',\n",
       " 'استنساخك',\n",
       " 'اسم',\n",
       " 'اصطناعي؟',\n",
       " 'امت',\n",
       " 'امل',\n",
       " 'ان',\n",
       " 'انا',\n",
       " 'انت',\n",
       " 'انك',\n",
       " 'بأن',\n",
       " 'بأي',\n",
       " 'باي',\n",
       " 'بدو',\n",
       " 'بضح',\n",
       " 'بك',\n",
       " 'بوت',\n",
       " 'تحب',\n",
       " 'تحر',\n",
       " 'تسر',\n",
       " 'تكون',\n",
       " 'تمت',\n",
       " 'ثرثار',\n",
       " 'ثرثر',\n",
       " 'جاب',\n",
       " 'جدد',\n",
       " 'جزل',\n",
       " 'جسد',\n",
       " 'جهز',\n",
       " 'حاج',\n",
       " 'حالك؟',\n",
       " 'حجم',\n",
       " 'حدث',\n",
       " 'حذك',\n",
       " 'حسن',\n",
       " 'حكم',\n",
       " 'حكيم؟',\n",
       " 'خاص',\n",
       " 'خالد؟',\n",
       " 'خبر',\n",
       " 'خدم',\n",
       " 'خرج',\n",
       " 'خصة',\n",
       " 'خلد',\n",
       " 'خلف',\n",
       " 'خير',\n",
       " 'دتا',\n",
       " 'ذك؟',\n",
       " 'ذكء',\n",
       " 'ذلك',\n",
       " 'رئع',\n",
       " 'رائع،',\n",
       " 'رحب',\n",
       " 'رمج',\n",
       " 'رنمج',\n",
       " 'روبو',\n",
       " 'سعد',\n",
       " 'سلم',\n",
       " 'سمح',\n",
       " 'شعر',\n",
       " 'شغل',\n",
       " 'شكر',\n",
       " 'شو',\n",
       " 'صبح',\n",
       " 'صحح',\n",
       " 'صطناع',\n",
       " 'صندوق',\n",
       " 'ضيق',\n",
       " 'عطل',\n",
       " 'عل؟',\n",
       " 'على',\n",
       " 'علي',\n",
       " 'عمل',\n",
       " 'عنه',\n",
       " 'غبة',\n",
       " 'غبي',\n",
       " 'غير',\n",
       " 'فضل',\n",
       " 'فعل',\n",
       " 'فكر',\n",
       " 'فهم',\n",
       " 'في',\n",
       " 'فيد',\n",
       " 'فيه',\n",
       " 'قتل',\n",
       " 'قدم',\n",
       " 'قهوة؟',\n",
       " 'كتابتك؟',\n",
       " 'كذب',\n",
       " 'كل',\n",
       " 'كمبيوتر',\n",
       " 'كيف',\n",
       " 'كين',\n",
       " 'لا',\n",
       " 'لحق',\n",
       " 'لدك',\n",
       " 'لغة',\n",
       " 'لغي',\n",
       " 'لك',\n",
       " 'لها',\n",
       " 'لي',\n",
       " 'ما',\n",
       " 'متى',\n",
       " 'مثل',\n",
       " 'محادثة؟',\n",
       " 'مساء',\n",
       " 'مشي',\n",
       " 'مك؟',\n",
       " 'من',\n",
       " 'منتجك؟',\n",
       " 'موت',\n",
       " 'مين',\n",
       " 'نت؟',\n",
       " 'نظم',\n",
       " 'نفس',\n",
       " 'نوع',\n",
       " 'نول',\n",
       " 'هدف',\n",
       " 'هذا',\n",
       " 'هل',\n",
       " 'هناك',\n",
       " 'هو',\n",
       " 'هول',\n",
       " 'هي',\n",
       " 'هيت',\n",
       " 'واو',\n",
       " 'ودع',\n",
       " 'وع؟',\n",
       " 'وعد؟',\n",
       " 'ياو',\n",
       " 'يجب',\n",
       " 'يكون',\n",
       " 'يمت',\n",
       " 'يمك',\n",
       " 'يمكن']"
      ]
     },
     "execution_count": 7,
     "metadata": {},
     "output_type": "execute_result"
    }
   ],
   "source": [
    "words"
   ]
  },
  {
   "cell_type": "code",
   "execution_count": 8,
   "id": "e25687e9",
   "metadata": {},
   "outputs": [
    {
     "data": {
      "text/plain": [
       "['AI',\n",
       " 'abbr',\n",
       " 'artificial',\n",
       " 'bend',\n",
       " 'body',\n",
       " 'bot1',\n",
       " 'breathe',\n",
       " 'business',\n",
       " 'chatbot',\n",
       " 'chatterbox',\n",
       " 'clone',\n",
       " 'comp',\n",
       " 'computer',\n",
       " 'control',\n",
       " 'cramped',\n",
       " 'date',\n",
       " 'death',\n",
       " 'do',\n",
       " 'events',\n",
       " 'fav',\n",
       " 'fight',\n",
       " 'goodbye',\n",
       " 'greetings',\n",
       " 'hardware',\n",
       " 'hobby',\n",
       " 'idea',\n",
       " 'imortal',\n",
       " 'lang',\n",
       " 'laugh',\n",
       " 'lie',\n",
       " 'machine',\n",
       " 'malfunction',\n",
       " 'motormouth',\n",
       " 'move',\n",
       " 'name',\n",
       " 'name1',\n",
       " 'need',\n",
       " 'noanswer',\n",
       " 'os',\n",
       " 'program',\n",
       " 'programming',\n",
       " 'ratchet',\n",
       " 'robotics',\n",
       " 'robots',\n",
       " 'robotss',\n",
       " 'sapient',\n",
       " 'sense',\n",
       " 'sentiment',\n",
       " 'shoe',\n",
       " 'sound',\n",
       " 'stupid',\n",
       " 'thanks',\n",
       " 'usage',\n",
       " 'who',\n",
       " 'wt']"
      ]
     },
     "execution_count": 8,
     "metadata": {},
     "output_type": "execute_result"
    }
   ],
   "source": [
    "classes"
   ]
  },
  {
   "cell_type": "markdown",
   "id": "88bc6a00",
   "metadata": {},
   "source": [
    "# Words Clean Up Bag of Words"
   ]
  },
  {
   "cell_type": "code",
   "execution_count": 9,
   "id": "b8bc403b",
   "metadata": {},
   "outputs": [],
   "source": [
    "def clean_up_sentence(sentence):\n",
    "    sentence_words = nltk.word_tokenize(sentence)\n",
    "    sentence_words = [isstemmer.stem(word) for word in sentence_words]\n",
    "    #print(\"cleaned up sentence =\", sentence_words)\n",
    "    return sentence_words"
   ]
  },
  {
   "cell_type": "code",
   "execution_count": 10,
   "id": "5512aa25",
   "metadata": {},
   "outputs": [],
   "source": [
    "def bag_of_words(sentence):\n",
    "    sentence_words = clean_up_sentence(sentence)\n",
    "    bag = [0]*len(words)\n",
    "    \n",
    "    for w in sentence_words:\n",
    "        for i, word in enumerate(words):\n",
    "            if word ==w:\n",
    "                bag[i]=1\n",
    "                \n",
    "    return np.array(bag)"
   ]
  },
  {
   "cell_type": "markdown",
   "id": "a6f47e16",
   "metadata": {},
   "source": [
    "# ChatBot Testing"
   ]
  },
  {
   "cell_type": "code",
   "execution_count": 11,
   "id": "1e9e0b58",
   "metadata": {},
   "outputs": [],
   "source": [
    "def predict_class(sentence):\n",
    "    bow = bag_of_words(sentence)\n",
    "    res = model.predict(np.array([bow]))[0]\n",
    "    #print(\"row result\",res)\n",
    "    \n",
    "    ERROR_THRESHOLD = 0.25\n",
    "    results = [[i,r] for i,r in enumerate(res) if r>ERROR_THRESHOLD]\n",
    "    #print(\"results after THRESHOLDING\", results)\n",
    "    \n",
    "    return_list = []\n",
    "    \n",
    "    for r in results:\n",
    "        return_list.append({'intent':classes[r[0]], 'probability':str(r[1])})\n",
    "        \n",
    "    #print(\"final probabile results list\", return_list)\n",
    "    \n",
    "    return return_list"
   ]
  },
  {
   "cell_type": "code",
   "execution_count": 12,
   "id": "45dcc465",
   "metadata": {},
   "outputs": [],
   "source": [
    "def get_response(intents_list, intents_json):\n",
    "    tag= intents_list[0]['intent']\n",
    "    list_of_intents = intents_json['intents']\n",
    "    \n",
    "    for i in list_of_intents:\n",
    "        if i['tag'] == tag:\n",
    "            result = random.choice(i['responses'])\n",
    "            break\n",
    "    return result"
   ]
  },
  {
   "cell_type": "code",
   "execution_count": 13,
   "id": "3d7bfccc",
   "metadata": {},
   "outputs": [
    {
     "data": {
      "text/plain": [
       "'\\nwhile True:\\n    message = input(\"\")\\n    ints = predict_class(message)\\n    #print(\"ints\", ints)\\n    res = get_response(ints, intents)\\n    \\n    print(res)\\n'"
      ]
     },
     "execution_count": 13,
     "metadata": {},
     "output_type": "execute_result"
    }
   ],
   "source": [
    "'''\n",
    "while True:\n",
    "    message = input(\"\")\n",
    "    ints = predict_class(message)\n",
    "    #print(\"ints\", ints)\n",
    "    res = get_response(ints, intents)\n",
    "    \n",
    "    print(res)\n",
    "'''"
   ]
  },
  {
   "cell_type": "code",
   "execution_count": 14,
   "id": "99aba14d",
   "metadata": {},
   "outputs": [],
   "source": [
    "def chatbot_response(msg):\n",
    "    \n",
    "    ints = predict_class(msg)\n",
    "    \n",
    "    res = get_response(ints,intents)\n",
    "    \n",
    "    return res"
   ]
  },
  {
   "cell_type": "code",
   "execution_count": 15,
   "id": "88f35dc8",
   "metadata": {},
   "outputs": [
    {
     "name": "stdout",
     "output_type": "stream",
     "text": [
      "1/1 [==============================] - 0s 124ms/step\n",
      "1/1 [==============================] - 0s 38ms/step\n",
      "1/1 [==============================] - 0s 26ms/step\n",
      "1/1 [==============================] - 0s 27ms/step\n"
     ]
    }
   ],
   "source": [
    "def send():\n",
    "    msg = EntryBox.get(\"1.0\",'end-1c').strip()\n",
    "    EntryBox.delete(\"0.0\",END)\n",
    "\n",
    "    if msg != '':\n",
    "        ChatLog.config(state=NORMAL)\n",
    "        ChatLog.insert(END, \"أنت: \" + msg + '\\n\\n', \"right\")\n",
    "\n",
    "        res = chatbot_response(msg)\n",
    "        #res_rtl = get_display(reshape(res), base_dir='R')\n",
    "        ChatLog.insert(END, \"الالي: \" + res + '\\n\\n', \"right\")\n",
    "\n",
    "        ChatLog.config(state=DISABLED)\n",
    "        ChatLog.yview(END)\n",
    "\n",
    "base = tk.Tk()\n",
    "base.title(\"مرحبا\")\n",
    "base.geometry(\"500x500\")\n",
    "base.resizable(width=FALSE, height=FALSE)\n",
    "\n",
    "ChatLog = Text(base, bd=0, bg=\"white\", height=\"8\", width=\"50\", font=\"Arial\")\n",
    "ChatLog.config(state=DISABLED)\n",
    "\n",
    "scrollbar = Scrollbar(base, command=ChatLog.yview, cursor=\"heart\")\n",
    "ChatLog['yscrollcommand'] = scrollbar.set\n",
    "\n",
    "SendButton = Button(base, font=(\"Verdana\", 12, 'bold'), text=\"Send\", width=\"12\", height=5,\n",
    "                    bd=0, bg=\"#32de97\", activebackground=\"#3c9d9b\", fg='#ffffff',\n",
    "                    command=send)\n",
    "\n",
    "EntryBox = Text(base, bd=0, bg=\"white\", width=\"29\", height=\"5\", font=\"Arial\")\n",
    "\n",
    "# Placez les composants avec une direction RTL\n",
    "scrollbar.place(x=6, y=6, height=386)  # Placez le scrollbar à gauche\n",
    "ChatLog.place(x=40, y=6, height=386, width=440)  # Placez le ChatLog plus à droite\n",
    "EntryBox.place(x=40, y=401, height=90, width=265)  # Placez l'EntryBox plus à droite\n",
    "SendButton.place(x=6, y=401, height=90)  # Placez le bouton à gauche\n",
    "\n",
    "base.mainloop()"
   ]
  },
  {
   "cell_type": "code",
   "execution_count": null,
   "id": "ba42ae1d",
   "metadata": {},
   "outputs": [],
   "source": []
  }
 ],
 "metadata": {
  "kernelspec": {
   "display_name": "Python 3 (ipykernel)",
   "language": "python",
   "name": "python3"
  },
  "language_info": {
   "codemirror_mode": {
    "name": "ipython",
    "version": 3
   },
   "file_extension": ".py",
   "mimetype": "text/x-python",
   "name": "python",
   "nbconvert_exporter": "python",
   "pygments_lexer": "ipython3",
   "version": "3.9.13"
  }
 },
 "nbformat": 4,
 "nbformat_minor": 5
}
